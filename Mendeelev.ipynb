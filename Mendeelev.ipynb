{
  "nbformat": 4,
  "nbformat_minor": 0,
  "metadata": {
    "colab": {
      "name": "Mendeelev.ipynb",
      "provenance": [],
      "collapsed_sections": []
    },
    "kernelspec": {
      "name": "python3",
      "display_name": "Python 3"
    }
  },
  "cells": [
    {
      "cell_type": "code",
      "metadata": {
        "colab": {
          "base_uri": "https://localhost:8080/"
        },
        "id": "tWMBqbdjHj9P",
        "outputId": "03494cab-4672-40e4-9780-77aae03f731f"
      },
      "source": [
        "pip install mendeleev"
      ],
      "execution_count": null,
      "outputs": [
        {
          "output_type": "stream",
          "text": [
            "Collecting mendeleev\n",
            "\u001b[?25l  Downloading https://files.pythonhosted.org/packages/f0/75/5863bb298aa1390cb9ecb0548a62b8213ef085273f9d3c73e513b9c36214/mendeleev-0.6.1.tar.gz (193kB)\n",
            "\r\u001b[K     |█▊                              | 10kB 17.3MB/s eta 0:00:01\r\u001b[K     |███▍                            | 20kB 20.9MB/s eta 0:00:01\r\u001b[K     |█████                           | 30kB 13.8MB/s eta 0:00:01\r\u001b[K     |██████▉                         | 40kB 10.2MB/s eta 0:00:01\r\u001b[K     |████████▌                       | 51kB 5.5MB/s eta 0:00:01\r\u001b[K     |██████████▏                     | 61kB 6.0MB/s eta 0:00:01\r\u001b[K     |███████████▉                    | 71kB 5.9MB/s eta 0:00:01\r\u001b[K     |█████████████▋                  | 81kB 6.6MB/s eta 0:00:01\r\u001b[K     |███████████████▎                | 92kB 5.6MB/s eta 0:00:01\r\u001b[K     |█████████████████               | 102kB 6.1MB/s eta 0:00:01\r\u001b[K     |██████████████████▊             | 112kB 6.1MB/s eta 0:00:01\r\u001b[K     |████████████████████▍           | 122kB 6.1MB/s eta 0:00:01\r\u001b[K     |██████████████████████          | 133kB 6.1MB/s eta 0:00:01\r\u001b[K     |███████████████████████▊        | 143kB 6.1MB/s eta 0:00:01\r\u001b[K     |█████████████████████████▌      | 153kB 6.1MB/s eta 0:00:01\r\u001b[K     |███████████████████████████▏    | 163kB 6.1MB/s eta 0:00:01\r\u001b[K     |████████████████████████████▉   | 174kB 6.1MB/s eta 0:00:01\r\u001b[K     |██████████████████████████████▌ | 184kB 6.1MB/s eta 0:00:01\r\u001b[K     |████████████████████████████████| 194kB 6.1MB/s \n",
            "\u001b[?25hRequirement already satisfied: numpy in /usr/local/lib/python3.6/dist-packages (from mendeleev) (1.18.5)\n",
            "Requirement already satisfied: pandas in /usr/local/lib/python3.6/dist-packages (from mendeleev) (1.1.4)\n",
            "Requirement already satisfied: sqlalchemy>=1.3.0 in /usr/local/lib/python3.6/dist-packages (from mendeleev) (1.3.20)\n",
            "Collecting colorama\n",
            "  Downloading https://files.pythonhosted.org/packages/44/98/5b86278fbbf250d239ae0ecb724f8572af1c91f4a11edf4d36a206189440/colorama-0.4.4-py2.py3-none-any.whl\n",
            "Collecting pyfiglet\n",
            "\u001b[?25l  Downloading https://files.pythonhosted.org/packages/33/07/fcfdd7a2872f5b348953de35acce1544dab0c1e8368dca54279b1cde5c15/pyfiglet-0.8.post1-py2.py3-none-any.whl (865kB)\n",
            "\u001b[K     |████████████████████████████████| 870kB 39.7MB/s \n",
            "\u001b[?25hRequirement already satisfied: python-dateutil>=2.7.3 in /usr/local/lib/python3.6/dist-packages (from pandas->mendeleev) (2.8.1)\n",
            "Requirement already satisfied: pytz>=2017.2 in /usr/local/lib/python3.6/dist-packages (from pandas->mendeleev) (2018.9)\n",
            "Requirement already satisfied: six>=1.5 in /usr/local/lib/python3.6/dist-packages (from python-dateutil>=2.7.3->pandas->mendeleev) (1.15.0)\n",
            "Building wheels for collected packages: mendeleev\n",
            "  Building wheel for mendeleev (setup.py) ... \u001b[?25l\u001b[?25hdone\n",
            "  Created wheel for mendeleev: filename=mendeleev-0.6.1-py2.py3-none-any.whl size=174964 sha256=2fdf844136694de0c61e157ee091fc1a965ef592a54522f64ddc1544b72c0b21\n",
            "  Stored in directory: /root/.cache/pip/wheels/fb/28/5d/95e69a718b35dd00169889b0139a692f6c265d399cab3aa097\n",
            "Successfully built mendeleev\n",
            "Installing collected packages: colorama, pyfiglet, mendeleev\n",
            "Successfully installed colorama-0.4.4 mendeleev-0.6.1 pyfiglet-0.8.post1\n"
          ],
          "name": "stdout"
        }
      ]
    },
    {
      "cell_type": "code",
      "metadata": {
        "id": "hu9tKH14HbVR"
      },
      "source": [
        "import mendeleev"
      ],
      "execution_count": null,
      "outputs": []
    },
    {
      "cell_type": "code",
      "metadata": {
        "id": "LMqgXTV58yLb"
      },
      "source": [
        "from mendeleev import Ni, Sb, Sc"
      ],
      "execution_count": null,
      "outputs": []
    },
    {
      "cell_type": "code",
      "metadata": {
        "colab": {
          "base_uri": "https://localhost:8080/"
        },
        "id": "WXJuHrZMLhIR",
        "outputId": "d05e9234-3e88-4aea-fc9c-9492842aad0f"
      },
      "source": [
        "print(Sb.name)\n",
        "print(Sb.atomic_number)\n",
        "print(Sb.atomic_weight)\n",
        "print(Sb.period)\n",
        "print(Sb.ionenergies)\n",
        "print(Sb.electronegativity(scale='pauling'))\n",
        "print(Sb.electronegativity(scale='allen'))\n",
        "print(Sb.vdw_radius)\n",
        "print(Sb.covalent_radius)\n",
        "print(Sb.atomic_radius)\n",
        "print(Sb.melting_point)\n",
        "print(Sb.boiling_point)\n",
        "print(Sb.density)\n",
        "print(Sb.fusion_heat)\n",
        "print(Sb.specific_heat)"
      ],
      "execution_count": null,
      "outputs": [
        {
          "output_type": "stream",
          "text": [
            "Antimony\n",
            "51\n",
            "121.76\n",
            "5\n",
            "{1: 8.608389, 2: 16.63, 3: 25.3235, 4: 43.8, 5: 55.0, 6: 99.51, 7: 117.0, 8: 139.0, 9: 162.0, 10: 185.0, 11: 214.0, 12: 238.0, 13: 265.0, 14: 292.0, 15: 317.0, 16: 420.0, 17: 447.0, 18: 479.0, 19: 510.0, 20: 552.0, 21: 584.0, 22: 657.0, 23: 693.26, 24: 1214.0, 25: 1285.0, 26: 1360.0, 27: 1441.0, 28: 1518.0, 29: 1606.0, 30: 1698.0, 31: 1781.0, 32: 1869.0, 33: 1954.0, 34: 2190.0, 35: 2266.0, 36: 2349.0, 37: 2428.0, 38: 2567.0, 39: 2654.0, 40: 2815.0, 41: 2900.0, 42: 6714.0, 43: 6929.0, 44: 7167.0, 45: 7390.0, 46: 7887.0, 47: 8140.0, 48: 8455.0, 49: 8669.48, 50: 35710.03, 51: 36668.05}\n",
            "2.05\n",
            "11.74\n",
            "206.0\n",
            "140.0\n",
            "145.0\n",
            "903.9\n",
            "1908.0\n",
            "6.691\n",
            "20.08\n",
            "0.205\n"
          ],
          "name": "stdout"
        }
      ]
    },
    {
      "cell_type": "code",
      "metadata": {
        "colab": {
          "base_uri": "https://localhost:8080/"
        },
        "id": "Tk9pPHEWH2Py",
        "outputId": "080e3527-a6de-4f9b-9581-9b1f84e0dd67"
      },
      "source": [
        "print(Ni.name)\n",
        "print(Ni.atomic_number)\n",
        "print(Ni.atomic_weight)"
      ],
      "execution_count": null,
      "outputs": [
        {
          "output_type": "stream",
          "text": [
            "Ni's name:  Nickel\n",
            "Ni's atomic number: 28\n",
            "Ni's atomic weight:  58.6934\n"
          ],
          "name": "stdout"
        }
      ]
    },
    {
      "cell_type": "code",
      "metadata": {
        "colab": {
          "base_uri": "https://localhost:8080/"
        },
        "id": "7jadl6KlLgZW",
        "outputId": "2c7b0371-0302-41b2-f83b-2ad5e3669b1a"
      },
      "source": [
        "print(Ni.period) "
      ],
      "execution_count": null,
      "outputs": [
        {
          "output_type": "stream",
          "text": [
            "4\n"
          ],
          "name": "stdout"
        }
      ]
    },
    {
      "cell_type": "code",
      "metadata": {
        "colab": {
          "base_uri": "https://localhost:8080/"
        },
        "id": "L9wE2MEBMHLI",
        "outputId": "0a7d5b98-44d0-4f84-ed1d-ea0557a32b60"
      },
      "source": [
        "print(Ni.group)"
      ],
      "execution_count": null,
      "outputs": [
        {
          "output_type": "stream",
          "text": [
            "<Group(symbol=VIIIB, name=)>\n"
          ],
          "name": "stdout"
        }
      ]
    },
    {
      "cell_type": "code",
      "metadata": {
        "colab": {
          "base_uri": "https://localhost:8080/"
        },
        "id": "AXECFjKGMN_-",
        "outputId": "426ef033-3777-40f4-f91f-237df2d5f87a"
      },
      "source": [
        "print(Ni.ionenergies)"
      ],
      "execution_count": null,
      "outputs": [
        {
          "output_type": "stream",
          "text": [
            "{1: 7.639877, 2: 18.168837, 3: 35.19, 4: 54.9, 5: 76.06, 6: 108.0, 7: 132.0, 8: 162.0, 9: 193.2, 10: 224.7, 11: 319.53, 12: 351.63, 13: 384.55, 14: 429.32, 15: 462.8, 16: 495.4, 17: 571.1, 18: 607.02, 19: 1541.05, 20: 1646.0, 21: 1758.0, 22: 1880.0, 23: 2008.1, 24: 2130.46, 25: 2295.6, 26: 2399.259, 27: 10288.8858, 28: 10775.386}\n"
          ],
          "name": "stdout"
        }
      ]
    },
    {
      "cell_type": "code",
      "metadata": {
        "colab": {
          "base_uri": "https://localhost:8080/"
        },
        "id": "x-x2hdyfM0Ga",
        "outputId": "2ffe8ff4-2073-4f43-f026-bad8e88f838a"
      },
      "source": [
        "print(Ni.electron_affinity)"
      ],
      "execution_count": null,
      "outputs": [
        {
          "output_type": "stream",
          "text": [
            "1.156\n"
          ],
          "name": "stdout"
        }
      ]
    },
    {
      "cell_type": "code",
      "metadata": {
        "colab": {
          "base_uri": "https://localhost:8080/"
        },
        "id": "t2SlOq8oM6Nv",
        "outputId": "672e9abc-41ca-4040-b1ff-19d35ee3fc9b"
      },
      "source": [
        "print(Ni.electronegativity(scale='pauling'))\n",
        "print(Ni.electronegativity(scale='allen'))\n",
        "print(Ni.vdw_radius)\n",
        "print(Ni.covalent_radius)\n",
        "print(Ni.atomic_radius)\n",
        "print(Ni.melting_point)\n",
        "print(Ni.boiling_point)\n",
        "print(Ni.density)\n",
        "print(Ni.fusion_heat)\n",
        "print(Ni.specific_heat)\n",
        "\n"
      ],
      "execution_count": null,
      "outputs": [
        {
          "output_type": "stream",
          "text": [
            "1.91\n",
            "11.13\n",
            "197.0\n",
            "110.00000000000001\n",
            "135.0\n",
            "1726.0\n",
            "3005.0\n",
            "8.902\n",
            "17.61\n",
            "0.443\n"
          ],
          "name": "stdout"
        }
      ]
    },
    {
      "cell_type": "code",
      "metadata": {
        "colab": {
          "base_uri": "https://localhost:8080/"
        },
        "id": "y_7Jmo9VTAyy",
        "outputId": "824f32cb-1c28-4bcf-bb25-dc7673a62831"
      },
      "source": [
        "print(Sc.name)\n",
        "print(Sc.atomic_number)\n",
        "print(Sc.atomic_weight)\n",
        "print(Sc.period)\n",
        "print(Sc.ionenergies)\n",
        "print(Sc.electronegativity(scale='pauling'))\n",
        "print(Sc.electronegativity(scale='allen'))\n",
        "print(Sc.vdw_radius)\n",
        "print(Sc.covalent_radius)\n",
        "print(Sc.atomic_radius)\n",
        "print(Sc.melting_point)\n",
        "print(Sc.boiling_point)\n",
        "print(Sc.density)\n",
        "print(Sc.fusion_heat)\n",
        "print(Sc.specific_heat)"
      ],
      "execution_count": null,
      "outputs": [
        {
          "output_type": "stream",
          "text": [
            "Scandium\n",
            "21\n",
            "44.955908\n",
            "4\n",
            "{1: 6.56149, 2: 12.79977, 3: 24.756838, 4: 73.4894, 5: 91.949, 6: 110.68, 7: 138.0, 8: 158.1, 9: 180.0, 10: 225.18, 11: 249.798, 12: 687.36, 13: 757.7, 14: 833.0, 15: 926.48, 16: 1008.62, 17: 1093.48, 18: 1213.1, 19: 1287.956, 20: 5674.9034, 21: 6033.754}\n",
            "1.36\n",
            "7.042000000000001\n",
            "215.0\n",
            "148.0\n",
            "160.0\n",
            "1814.0\n",
            "3104.0\n",
            "2.99\n",
            "15.8\n",
            "0.556\n"
          ],
          "name": "stdout"
        }
      ]
    }
  ]
}